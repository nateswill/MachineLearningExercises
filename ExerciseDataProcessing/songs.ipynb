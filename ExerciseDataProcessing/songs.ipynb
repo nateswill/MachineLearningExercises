{
 "cells": [
  {
   "cell_type": "code",
   "execution_count": null,
   "metadata": {},
   "outputs": [],
   "source": [
    "import pandas as pd\n",
    "import numpy as np\n",
    "import matplotlib.pyplot as plt\n",
    "from datetime import datetime\n",
    "from sklearn.experimental import enable_iterative_imputer\n",
    "from sklearn.impute import IterativeImputer\n",
    "from sklearn.impute import SimpleImputer\n",
    "from sklearn.model_selection import train_test_split"
   ]
  },
  {
   "cell_type": "code",
   "execution_count": null,
   "metadata": {},
   "outputs": [],
   "source": [
    "# import csv into a dataframe\n",
    "songs = pd.read_csv(r\"ml-03-data-processing-songs-dataset.csv\")"
   ]
  },
  {
   "cell_type": "code",
   "execution_count": null,
   "metadata": {},
   "outputs": [],
   "source": [
    "songs.info()"
   ]
  },
  {
   "cell_type": "code",
   "execution_count": null,
   "metadata": {},
   "outputs": [],
   "source": [
    "songs.head()"
   ]
  },
  {
   "cell_type": "code",
   "execution_count": null,
   "metadata": {},
   "outputs": [],
   "source": [
    "songs.hist(figsize = (15,10))"
   ]
  },
  {
   "cell_type": "code",
   "execution_count": null,
   "metadata": {},
   "outputs": [],
   "source": [
    "# replace commas in Length (Duration) column to convert column to numeric\n",
    "songs[\"Length (Duration)\"] = songs[\"Length (Duration)\"].str.replace(\",\", \"\")\n",
    "#change Length (Duration) column to numeric\n",
    "songs[\"Length (Duration)\"] = pd.to_numeric(songs[\"Length (Duration)\"])"
   ]
  },
  {
   "cell_type": "code",
   "execution_count": null,
   "metadata": {},
   "outputs": [],
   "source": [
    "# fix string months values\n",
    "def replace_month(month):\n",
    "    month_dict = {\"Jan\": 1, \"Dec\": 12, \"Sep\": 9, \"Apr\": 4, \"Jun\": 6, \"May\": 5}\n",
    "    if month in month_dict.keys():\n",
    "        return month_dict[month]\n",
    "    else:\n",
    "        return month\n",
    "\n",
    "songs[\"Month\"] = songs[\"Month\"].apply(lambda x: replace_month(x)).astype(int)\n",
    "\n",
    "# change data type of Month column to int\n",
    "songs.info()"
   ]
  },
  {
   "cell_type": "code",
   "execution_count": null,
   "metadata": {},
   "outputs": [],
   "source": [
    "# take out year column outliers\n",
    "# replace 92.0 years with 1992, leave nan values\n",
    "songs[\"Year\"] = songs[\"Year\"].apply(lambda x: 1900 + x if (x is not np.nan) and (x == 92.0) else x)\n",
    "# test to make sure years were fixed\n",
    "songs[songs[\"Year\"] < 1900]"
   ]
  },
  {
   "cell_type": "code",
   "execution_count": null,
   "metadata": {},
   "outputs": [],
   "source": [
    "# count na values in each column\n",
    "#songs.isna().sum()"
   ]
  },
  {
   "cell_type": "code",
   "execution_count": null,
   "metadata": {},
   "outputs": [],
   "source": [
    "# drop columns that have greater than 50% na values\n",
    "drop_cols =[]\n",
    "length = songs.shape[0]\n",
    "for col in songs.columns:\n",
    "    if songs[col].isna().sum() > length/2:\n",
    "        drop_cols.append(col)\n",
    "songs.drop(drop_cols, axis = 1, inplace=True)"
   ]
  },
  {
   "cell_type": "code",
   "execution_count": null,
   "metadata": {},
   "outputs": [],
   "source": [
    "# drop rows that have more than 50% na values\n",
    "drop_rows = []\n",
    "width = songs.shape[1]\n",
    "for i in range(len(songs.index)):\n",
    "    if songs.loc[i].isna().sum() > width/2:\n",
    "        drop_rows.append(i)\n",
    "songs.drop(drop_rows, inplace=True)"
   ]
  },
  {
   "cell_type": "code",
   "execution_count": null,
   "metadata": {},
   "outputs": [],
   "source": [
    "# for column in songs.columns:\n",
    "#     if(pd.api.types.is_numeric_dtype(songs[column])):\n",
    "#         mean = songs[column].mean()\n",
    "#         std = songs[column].std()\n",
    "#         new_df = songs[(songs[column] < (mean - 3 * std)) | (songs[column] > (mean + 3 * std))]\n",
    "#         print(\"===========================================\")\n",
    "#         print(f\"Column: {column}\")\n",
    "#         print(f\"Mean: {mean}\")\n",
    "#         print(f\"Lower Bound: {mean - 3 * std}, Upper bound: {mean + 3 * std}\")\n",
    "#         print(f\"Outlier count: {new_df.shape[0]}\")\n",
    "#         plt.boxplot(new_df[column])\n",
    "#         plt.show()\n",
    "#         print(\"===========================================\")"
   ]
  },
  {
   "cell_type": "code",
   "execution_count": null,
   "metadata": {},
   "outputs": [],
   "source": [
    "# create dataframe with imputed mean values for numeric columns\n",
    "\n",
    "# separate numeric columns into new dataframe\n",
    "int_cols = ['Index', 'Year', 'Month',\n",
    "       'Beats Per Minute (BPM)', 'Energy', 'Loudness (dB)', 'Liveness',\n",
    "       'Length (Duration)', 'Acousticness', 'Speechiness', 'Popularity']\n",
    "int_df = songs[int_cols]\n",
    "\n",
    "# initialize imputer and impute dataframe\n",
    "imp = SimpleImputer(missing_values=np.nan, strategy='mean')\n",
    "int_array = imp.fit_transform(int_df)\n",
    "\n",
    "# create dataframe from array with original columns\n",
    "int_df_imp = pd.DataFrame(data = int_array, columns = int_cols)"
   ]
  },
  {
   "cell_type": "code",
   "execution_count": null,
   "metadata": {},
   "outputs": [],
   "source": [
    "# create dataframe with imputed mean values for categorical columns\n",
    "\n",
    "# separate numeric columns into new dataframe\n",
    "cat_cols = ['Title', 'Artist', 'Top Genre']\n",
    "cat_df = songs[cat_cols]\n",
    "\n",
    "# initialize imputer and impute dataframe\n",
    "imp = SimpleImputer(missing_values=np.nan, strategy='most_frequent')\n",
    "cat_array = imp.fit_transform(cat_df)\n",
    "\n",
    "# create dataframe from array with original columns\n",
    "cat_df_imp = pd.DataFrame(data = cat_array, columns = cat_cols)"
   ]
  },
  {
   "cell_type": "code",
   "execution_count": null,
   "metadata": {},
   "outputs": [],
   "source": [
    "# concat int and cat dataframe back together to get imputed dataframe \n",
    "imputed_songs = pd.concat([cat_df_imp, int_df_imp], axis =1)"
   ]
  },
  {
   "cell_type": "code",
   "execution_count": null,
   "metadata": {},
   "outputs": [],
   "source": [
    "# create date column\n",
    "imputed_songs[\"Date\"] = imputed_songs[\"Year\"].astype(str).apply(lambda x: x[0:4]) + \"-\" + imputed_songs[\"Month\"].astype(str).apply(lambda x: x[:-2])\n",
    "imputed_songs[\"Date\"] = pd.to_datetime(imputed_songs[\"Date\"])\n",
    "\n",
    "# create age column\n",
    "imputed_songs[\"Age\"] = pd.to_datetime(\"today\") - imputed_songs[\"Date\"]\n",
    "imputed_songs[\"Age\"] = imputed_songs[\"Age\"].dt.days\n",
    "\n",
    "# drop other date related columns\n",
    "imputed_songs.drop([\"Date\", \"Year\", \"Month\"], axis=1, inplace=True)"
   ]
  },
  {
   "cell_type": "code",
   "execution_count": null,
   "metadata": {},
   "outputs": [],
   "source": [
    "imputed_songs.info()"
   ]
  },
  {
   "cell_type": "code",
   "execution_count": null,
   "metadata": {},
   "outputs": [],
   "source": [
    "# create dummy variables for categorical columns\n",
    "title_dummies = pd.get_dummies(imputed_songs[\"Title\"], drop_first = True)\n",
    "artist_dummies = pd.get_dummies(imputed_songs[\"Artist\"], drop_first = True)\n",
    "genre_dummies = pd.get_dummies(imputed_songs[\"Top Genre\"], drop_first = True)\n",
    "\n",
    "# concat dataframe back to imputed_songs \n",
    "songs_clean = pd.concat([imputed_songs, title_dummies, artist_dummies, genre_dummies], axis =1)\n",
    "# drop categorical columns\n",
    "songs_clean.drop([\"Title\", \"Artist\", \"Top Genre\", \"Index\"], axis = 1, inplace=True)"
   ]
  },
  {
   "cell_type": "code",
   "execution_count": null,
   "metadata": {},
   "outputs": [],
   "source": [
    "songs_clean.head()"
   ]
  },
  {
   "cell_type": "code",
   "execution_count": null,
   "metadata": {},
   "outputs": [],
   "source": [
    "# create train and test arrays\n",
    "\n",
    "# select columns to model with\n",
    "model_df = songs_clean.drop([\"Popularity\"], axis=1)\n",
    "\n",
    "# select target column\n",
    "target_col = songs_clean[\"Popularity\"]\n",
    "\n",
    "X_train, X_test, y_train, y_test = train_test_split(model_df, target_col, test_size=0.30, random_state=42)"
   ]
  },
  {
   "cell_type": "code",
   "execution_count": null,
   "metadata": {},
   "outputs": [],
   "source": [
    "X_train.describe()"
   ]
  },
  {
   "cell_type": "code",
   "execution_count": null,
   "metadata": {},
   "outputs": [],
   "source": [
    "X_test.describe()"
   ]
  },
  {
   "cell_type": "code",
   "execution_count": null,
   "metadata": {},
   "outputs": [],
   "source": [
    "y_train.describe()"
   ]
  },
  {
   "cell_type": "code",
   "execution_count": null,
   "metadata": {},
   "outputs": [],
   "source": [
    "y_test.describe()"
   ]
  },
  {
   "cell_type": "code",
   "execution_count": null,
   "metadata": {},
   "outputs": [],
   "source": []
  }
 ],
 "metadata": {
  "kernelspec": {
   "display_name": "Python 3.9.12 ('base')",
   "language": "python",
   "name": "python3"
  },
  "language_info": {
   "codemirror_mode": {
    "name": "ipython",
    "version": 3
   },
   "file_extension": ".py",
   "mimetype": "text/x-python",
   "name": "python",
   "nbconvert_exporter": "python",
   "pygments_lexer": "ipython3",
   "version": "3.9.12"
  },
  "orig_nbformat": 4,
  "vscode": {
   "interpreter": {
    "hash": "49cb93f377a7abe7414b7b0f21fb3017538004a126cf690fb524202736b7fb92"
   }
  }
 },
 "nbformat": 4,
 "nbformat_minor": 2
}
